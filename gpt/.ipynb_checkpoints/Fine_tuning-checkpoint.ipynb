{
 "cells": [
  {
   "cell_type": "code",
   "execution_count": 3,
   "id": "f7954c94",
   "metadata": {},
   "outputs": [],
   "source": [
    "obj = ['의자', '책상', '탁자', '책장']\n",
    "color = ['하얀색', '갈색', '검은색', '오크색']\n",
    "size = ['큰 사이즈의', '큰', '중간의', '작은 사이즈의']\n",
    "handle = ['손잡이가 있는', '손잡이가 없는']\n",
    "leg = ['다리가 3개인', '다리가 철인']\n",
    "\n",
    "f = open('./question.txt', 'w')\n",
    "\n",
    "for o in obj :\n",
    "    for c in color :\n",
    "        for s in size :\n",
    "            for h in handle :\n",
    "                for l in leg :\n",
    "                    f.write(c + ' ' + s + ' ' + h + ' ' + l + ' ' + o + '\\n')\n",
    "                    \n",
    "f.close()"
   ]
  },
  {
   "cell_type": "code",
   "execution_count": 7,
   "id": "a643d93a",
   "metadata": {},
   "outputs": [],
   "source": [
    "question = open('./question_english.txt','r')\n",
    "lines = question.read()\n",
    "f = open('./question2gptindex.txt', 'w')\n",
    "line_list = lines.split('\\n')\n",
    "\n",
    "num = 1\n",
    "for line in line_list :\n",
    "    f.write(str(num) + '\\n')\n",
    "    f.write(\"I want to get a more expressed example \" + line + '. Recommend a some example with detailed description? Please answer in the format below\\n1.summary : detail\\n2.summary : detail\\n3.summary : detail\\n4.summary : detail\\n5.summary : detail\\n\\n')\n",
    "    f.write('\\n')\n",
    "    f.write('-' * 150)\n",
    "    f.write('\\n')\n",
    "    num += 1\n",
    "    \n",
    "question.close()\n",
    "f.close()"
   ]
  },
  {
   "cell_type": "code",
   "execution_count": 4,
   "id": "0051e854",
   "metadata": {},
   "outputs": [
    {
     "name": "stdout",
     "output_type": "stream",
     "text": [
      "100\n",
      "100\n"
     ]
    }
   ],
   "source": [
    "question = open('./question2gpt.txt', 'r')\n",
    "answer = open('./final_answer.txt', 'r')\n",
    "\n",
    "question_list = \"\".join(q for q in question).split('\\n\\n')\n",
    "answer_list = \"\".join(a for a in answer).split('-' * 150)\n",
    "\n",
    "print(len(question_list))\n",
    "print(len(answer_list))"
   ]
  },
  {
   "cell_type": "code",
   "execution_count": 5,
   "id": "9d44b83a",
   "metadata": {},
   "outputs": [],
   "source": [
    "import pandas as pd\n",
    "import numpy as np\n",
    "\n",
    "\n",
    "\n",
    "df = pd.DataFrame([question_list, answer_list])\n",
    "df = df.transpose()"
   ]
  },
  {
   "cell_type": "code",
   "execution_count": 6,
   "id": "c0ce128e",
   "metadata": {},
   "outputs": [],
   "source": [
    "df.rename(columns = {0:'question', 1:'answer'}, inplace = True)"
   ]
  },
  {
   "cell_type": "code",
   "execution_count": 9,
   "id": "21332013",
   "metadata": {},
   "outputs": [],
   "source": [
    "df.to_csv('./fine_tuning_data.csv', header = ['prompt', 'completion'], index = False)"
   ]
  },
  {
   "cell_type": "code",
   "execution_count": 10,
   "id": "9cd1b24a",
   "metadata": {},
   "outputs": [
    {
     "name": "stdout",
     "output_type": "stream",
     "text": [
      "Analyzing...\n",
      "\n",
      "- Based on your file extension, your file is formatted as a CSV file\n",
      "- Your file contains 100 prompt-completion pairs\n",
      "- All prompts end with suffix `. Recommend a some example with detailed description? Please answer in the format below\\n1.summary : detail\\n2.summary : detail\\n3.summary : detail\\n4.summary : detail\\n5.summary : detail`. This suffix seems very long. Consider replacing with a shorter suffix, such as `\\n\\n###\\n\\n`\n",
      "- All prompts start with prefix `I want to get a more expressed example `. Fine-tuning doesn't require the instruction specifying the task, or a few-shot example scenario. Most of the time you should only add the input data into the prompt, and the desired output into the completion\n",
      "- Your data does not contain a common ending at the end of your completions. Having a common ending string appended to the end of the completion makes it clearer to the fine-tuned model where the completion should end. See https://platform.openai.com/docs/guides/fine-tuning/preparing-your-dataset for more detail and examples.\n",
      "- The completion should start with a whitespace character (` `). This tends to produce better results due to the tokenization we use. See https://platform.openai.com/docs/guides/fine-tuning/preparing-your-dataset for more details\n",
      "\n",
      "Based on the analysis we will perform the following actions:\n",
      "- [Necessary] Your format `CSV` will be converted to `JSONL`\n",
      "- [Recommended] Remove prefix `I want to get a more expressed example ` from all prompts [Y/n]: ^C\n",
      "\n"
     ]
    }
   ],
   "source": [
    "!openai tools fine_tunes.prepare_data -f './fine_tuning_data.csv'"
   ]
  },
  {
   "cell_type": "code",
   "execution_count": 12,
   "id": "0b18bf09",
   "metadata": {},
   "outputs": [],
   "source": [
    "import openai\n",
    "\n",
    "openai.api_key = ''"
   ]
  },
  {
   "cell_type": "code",
   "execution_count": 45,
   "id": "42e1fad5",
   "metadata": {},
   "outputs": [
    {
     "name": "stdout",
     "output_type": "stream",
     "text": [
      "{\n",
      "  \"choices\": [\n",
      "    {\n",
      "      \"finish_reason\": \"length\",\n",
      "      \"index\": 0,\n",
      "      \"logprobs\": null,\n",
      "      \"text\": \" \\n1. Italian Retro Dining Chair: This example chair features a sleek, modern design with a comfortable, molded plastic seat and backrest. The legs are made of solid oak and stained a dark brown, adding a touch of elegance to the overall look.\\n\\n2. Eiffel Tower Chair: This eye-catching example chair is made of high-quality galvanized steel and painted in a vibrant blue and white pattern reminiscent of the Eiffel Tower. The seat is cushioned with a soft, black fabric and has a simplistic, yet modern design that would look great in any dining room or kitchen.\\n\\n3. French Bistro Chair: This traditional example chair has a rustic feel with its wooden frame and woven seat. The chair is painted a dark blue and features armrests that add extra comfort during extended dining sessions. The sturdy frame is perfect for any gathering or social event, making this a great choice for any home or restaurant.\\n\\n4. Barcelona Chair: This modern example chair features a sleek, minimalist design with a curved backrest and seat. The frame is made of aluminum and painted a bold red, giving it a unique look. This chair is ideal for small spaces, such as apartments or condos, and has a minimalist, stylish look that would fit any modern interior design.\\n\\n5. Outdoor Patio Chair: This example chair is perfect for those who love to spend time outdoors. It features a strong, powder-coated\"\n",
      "    }\n",
      "  ],\n",
      "  \"created\": 1682976430,\n",
      "  \"id\": \"cmpl-7BVL47a0EVConMBOkL41rjXYU9Pi8\",\n",
      "  \"model\": \"davinci:ft-personal-2023-05-01-20-32-10\",\n",
      "  \"object\": \"text_completion\",\n",
      "  \"usage\": {\n",
      "    \"completion_tokens\": 300,\n",
      "    \"prompt_tokens\": 54,\n",
      "    \"total_tokens\": 354\n",
      "  }\n",
      "}\n"
     ]
    }
   ],
   "source": [
    "import openai\n",
    "\n",
    "prompt = 'I want to get a more expressed example chair. Recommend a some example with detailed description? Please answer in the format below\\n\\\n",
    "1.summary : detail\\n\\\n",
    "2.summary : detail\\n\\\n",
    "3.summary : detail\\n\\\n",
    "4.summary : detail\\n\\\n",
    "5.summary : detail'\n",
    "\n",
    "answer = openai.Completion.create(\n",
    "    model = \"davinci:ft-personal-2023-05-01-20-32-10\",\n",
    "    max_tokens = 300,\n",
    "    prompt = prompt)\n",
    "\n",
    "print(answer)"
   ]
  },
  {
   "cell_type": "code",
   "execution_count": 46,
   "id": "2f7f5a1e",
   "metadata": {},
   "outputs": [
    {
     "data": {
      "text/plain": [
       "32"
      ]
     },
     "execution_count": 46,
     "metadata": {},
     "output_type": "execute_result"
    }
   ],
   "source": [
    "len(prompt.split(' '))"
   ]
  },
  {
   "cell_type": "code",
   "execution_count": 47,
   "id": "0229caac",
   "metadata": {},
   "outputs": [
    {
     "name": "stdout",
     "output_type": "stream",
     "text": [
      " \n",
      "1. Italian Retro Dining Chair: This example chair features a sleek, modern design with a comfortable, molded plastic seat and backrest. The legs are made of solid oak and stained a dark brown, adding a touch of elegance to the overall look.\n",
      "\n",
      "2. Eiffel Tower Chair: This eye-catching example chair is made of high-quality galvanized steel and painted in a vibrant blue and white pattern reminiscent of the Eiffel Tower. The seat is cushioned with a soft, black fabric and has a simplistic, yet modern design that would look great in any dining room or kitchen.\n",
      "\n",
      "3. French Bistro Chair: This traditional example chair has a rustic feel with its wooden frame and woven seat. The chair is painted a dark blue and features armrests that add extra comfort during extended dining sessions. The sturdy frame is perfect for any gathering or social event, making this a great choice for any home or restaurant.\n",
      "\n",
      "4. Barcelona Chair: This modern example chair features a sleek, minimalist design with a curved backrest and seat. The frame is made of aluminum and painted a bold red, giving it a unique look. This chair is ideal for small spaces, such as apartments or condos, and has a minimalist, stylish look that would fit any modern interior design.\n",
      "\n",
      "5. Outdoor Patio Chair: This example chair is perfect for those who love to spend time outdoors. It features a strong, powder-coated\n"
     ]
    }
   ],
   "source": [
    "print(answer.choices[0].text)"
   ]
  },
  {
   "cell_type": "code",
   "execution_count": 5,
   "id": "75e18006",
   "metadata": {},
   "outputs": [
    {
     "name": "stdout",
     "output_type": "stream",
     "text": [
      "before :  41\n",
      "after :  5\n"
     ]
    }
   ],
   "source": [
    "before = open('./before_fine_tuning_data/wrong_answer.txt', 'r')\n",
    "after = open('./wrong_answer_about_fine_tuning_model.txt', 'r')\n",
    "\n",
    "print('before : ', len(\"\".join(b for b in before).split('\\n')))\n",
    "print('after : ', len(\"\".join(a for a in after).split('\\n')))"
   ]
  }
 ],
 "metadata": {
  "kernelspec": {
   "display_name": "test",
   "language": "python",
   "name": "test"
  },
  "language_info": {
   "codemirror_mode": {
    "name": "ipython",
    "version": 3
   },
   "file_extension": ".py",
   "mimetype": "text/x-python",
   "name": "python",
   "nbconvert_exporter": "python",
   "pygments_lexer": "ipython3",
   "version": "3.8.0"
  }
 },
 "nbformat": 4,
 "nbformat_minor": 5
}
