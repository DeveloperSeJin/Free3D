{
 "cells": [
  {
   "cell_type": "code",
   "execution_count": 5,
   "id": "8677ab03",
   "metadata": {},
   "outputs": [],
   "source": [
    "import openai\n",
    "\n",
    "openai.api_key = \"token\"\n",
    "\n",
    "\n",
    "def getPrompt(discription) :\n",
    "    response = openai.ChatCompletion.create(\n",
    "        model=\"gpt-3.5-turbo\",\n",
    "        messages=[\n",
    "            {\"role\": \"system\", \"content\": \"You are a helpful assistant that get prompt and tag for Stable Diffusion\"},\n",
    "            {\"role\": \"user\", \"content\": \"Stable Diffusion으로 \" + discription + \"에 관한 사진을 뽑고 싶은데 적절한 태그나 prompt를 영어로 줄 수 있을까?\"},\n",
    "            {\"role\": \"user\", \"content\": \"아래줄과 같은 형식으로 줘 \\nxxx,xxx,xxx,xxx,\"}\n",
    "        ]\n",
    "    )\n",
    "    return response.choices[0].message.content"
   ]
  },
  {
   "cell_type": "code",
   "execution_count": 6,
   "id": "2ef2dda4",
   "metadata": {},
   "outputs": [
    {
     "name": "stdout",
     "output_type": "stream",
     "text": [
      "Prompt: Please provide Stable Diffusion prompt for finding a picture of a white fox.\n",
      "태그: #whitewolf #arcticfox #snowfox #whitefur #animalphotography\n"
     ]
    }
   ],
   "source": [
    "#반복하는 함수 구현\n",
    "#string 분할 구현\n",
    "#split(',')에서 일정 수 이하면 에러출력\n",
    "#형식은 fine tuning사용하면 될듯\n",
    "\n",
    "a = getPrompt('하얀색 여우')\n",
    "print(a)"
   ]
  },
  {
   "cell_type": "code",
   "execution_count": 7,
   "id": "86e63e75",
   "metadata": {},
   "outputs": [],
   "source": [
    "import openai\n",
    "\n",
    "openai.api_key = ''\n",
    "\n",
    "def getPrompt(discription) :\n",
    "  response = openai.ChatCompletion.create(\n",
    "    model=\"gpt-3.5-turbo\",\n",
    "    messages=[\n",
    "        {\"role\": \"user\", \"content\": \"Stable Diffusion으로 \" + discription + \"에 관한 사진을 뽑고 싶은데 적절한 태그나 prompt를 영어로 줄 수 있을까?    아래와 같은 형식으로 부탁해\\nxxx,xxx,xxx,xxxxx,xxxxxx,xxx,xxx,...\"},\n",
    "      ]\n",
    "  )\n",
    "  return response.choices[0].message.content"
   ]
  },
  {
   "cell_type": "code",
   "execution_count": 8,
   "id": "6aaab4a4",
   "metadata": {},
   "outputs": [
    {
     "data": {
      "text/plain": [
       "'Stable Diffusion, yellow chair, furniture, interior design, home decor, comfortable seating, ergonomic design'"
      ]
     },
     "execution_count": 8,
     "metadata": {},
     "output_type": "execute_result"
    }
   ],
   "source": [
    "getPrompt(('노란색 의자를 갖는 의자'))"
   ]
  },
  {
   "cell_type": "code",
   "execution_count": 1,
   "id": "afee7a66",
   "metadata": {},
   "outputs": [],
   "source": [
    "from Getprompt import gpt"
   ]
  },
  {
   "cell_type": "code",
   "execution_count": 2,
   "id": "2229543f",
   "metadata": {},
   "outputs": [],
   "source": [
    "key = ''\n",
    "gpt = gpt(key)"
   ]
  },
  {
   "cell_type": "code",
   "execution_count": 10,
   "id": "07ab17fe",
   "metadata": {},
   "outputs": [],
   "source": [
    "prompt = 'a black chair for office'"
   ]
  },
  {
   "cell_type": "code",
   "execution_count": 11,
   "id": "43fd5e74",
   "metadata": {},
   "outputs": [
    {
     "name": "stdout",
     "output_type": "stream",
     "text": [
      "I want to get a more expressed example a black chair for office. Recommend a some example with detailed description? Please answer in the format below\n",
      "        1.summary : detail\n",
      "        2.summary : detail\n",
      "        3.summary : detail\n",
      "        4.summary : detail\n",
      "        5.summary : detail\n"
     ]
    }
   ],
   "source": [
    "text = 'I want to get a more expressed example ' + prompt + '. Recommend a some example with detailed description? Please answer in the format below\\n\\\n",
    "        1.summary : detail\\n\\\n",
    "        2.summary : detail\\n\\\n",
    "        3.summary : detail\\n\\\n",
    "        4.summary : detail\\n\\\n",
    "        5.summary : detail'\n",
    "print(text)"
   ]
  },
  {
   "cell_type": "code",
   "execution_count": 18,
   "id": "934d5f24",
   "metadata": {},
   "outputs": [],
   "source": [
    "answer = gpt.request(text)"
   ]
  },
  {
   "cell_type": "code",
   "execution_count": 19,
   "id": "6bc3a6e7",
   "metadata": {},
   "outputs": [
    {
     "name": "stdout",
     "output_type": "stream",
     "text": [
      "                                                                                                                                                                                                                                                                                                            \n"
     ]
    }
   ],
   "source": [
    "print(answer)"
   ]
  },
  {
   "cell_type": "code",
   "execution_count": null,
   "id": "590c1fe9",
   "metadata": {},
   "outputs": [],
   "source": []
  }
 ],
 "metadata": {
  "kernelspec": {
   "display_name": "test",
   "language": "python",
   "name": "test"
  },
  "language_info": {
   "codemirror_mode": {
    "name": "ipython",
    "version": 3
   },
   "file_extension": ".py",
   "mimetype": "text/x-python",
   "name": "python",
   "nbconvert_exporter": "python",
   "pygments_lexer": "ipython3",
   "version": "3.8.0"
  }
 },
 "nbformat": 4,
 "nbformat_minor": 5
}
